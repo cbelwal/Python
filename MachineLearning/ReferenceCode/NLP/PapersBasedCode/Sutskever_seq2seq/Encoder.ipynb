{
 "cells": [
  {
   "cell_type": "code",
   "execution_count": 1,
   "metadata": {},
   "outputs": [],
   "source": [
    "import torch\n",
    "import torch.nn as nn\n"
   ]
  },
  {
   "cell_type": "code",
   "execution_count": null,
   "metadata": {},
   "outputs": [],
   "source": [
    "class Encoder(nn.Module):\n",
    "    class Encoder(nn.Module):\n",
    "        def __init__(self, input_dim, embedding_dim, hidden_dim, n_layers, dropout):\n",
    "            super().__init__()\n",
    "            self.hidden_dim = hidden_dim\n",
    "            self.n_layers = n_layers\n",
    "            self.embedding = nn.Embedding(input_dim, embedding_dim)\n",
    "            self.rnn = nn.LSTM(embedding_dim, hidden_dim, n_layers, dropout=dropout)\n",
    "            self.dropout = nn.Dropout(dropout)\n",
    "\n",
    "        def forward(self, src):\n",
    "            # src = [src length, batch size]\n",
    "            embedded = self.dropout(self.embedding(src))\n",
    "            # embedded = [src length, batch size, embedding dim]\n",
    "            outputs, (hidden, cell) = self.rnn(embedded)\n",
    "            # outputs = [src length, batch size, hidden dim * n directions]\n",
    "            # hidden = [n layers * n directions, batch size, hidden dim]\n",
    "            # cell = [n layers * n directions, batch size, hidden dim]\n",
    "            # outputs are always from the top hidden layer\n",
    "            return hidden, cell"
   ]
  }
 ],
 "metadata": {
  "kernelspec": {
   "display_name": ".venv",
   "language": "python",
   "name": "python3"
  },
  "language_info": {
   "codemirror_mode": {
    "name": "ipython",
    "version": 3
   },
   "file_extension": ".py",
   "mimetype": "text/x-python",
   "name": "python",
   "nbconvert_exporter": "python",
   "pygments_lexer": "ipython3",
   "version": "3.11.4"
  }
 },
 "nbformat": 4,
 "nbformat_minor": 2
}
